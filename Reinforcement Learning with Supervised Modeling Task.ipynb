{
 "cells": [
  {
   "cell_type": "markdown",
   "id": "a84b466a",
   "metadata": {},
   "source": [
    "# Import Libraries and Load Data"
   ]
  },
  {
   "cell_type": "code",
   "execution_count": 1,
   "id": "c325fe76",
   "metadata": {},
   "outputs": [],
   "source": [
    "# libraries\n",
    "import pandas as pd\n",
    "import numpy as np\n",
    "import matplotlib.pyplot as plt\n",
    "from sklearn.feature_extraction.text import TfidfVectorizer\n",
    "from sklearn.model_selection import train_test_split\n",
    "from sklearn.preprocessing import LabelEncoder\n",
    "from sklearn.metrics import accuracy_score\n",
    "from sklearn.naive_bayes import MultinomialNB\n",
    "from sklearn.linear_model import LogisticRegression\n",
    "from sklearn.ensemble import RandomForestClassifier\n",
    "from sklearn.svm import LinearSVC\n",
    "from sklearn.model_selection import cross_val_score\n",
    "from sklearn import metrics\n",
    "import random"
   ]
  },
  {
   "cell_type": "code",
   "execution_count": 2,
   "id": "aa063537",
   "metadata": {},
   "outputs": [
    {
     "name": "stderr",
     "output_type": "stream",
     "text": [
      "[nltk_data] Downloading package stopwords to\n",
      "[nltk_data]     C:\\Users\\alexc\\AppData\\Roaming\\nltk_data...\n",
      "[nltk_data]   Package stopwords is already up-to-date!\n",
      "[nltk_data] Downloading package wordnet to\n",
      "[nltk_data]     C:\\Users\\alexc\\AppData\\Roaming\\nltk_data...\n",
      "[nltk_data]   Package wordnet is already up-to-date!\n"
     ]
    },
    {
     "data": {
      "text/plain": [
       "True"
      ]
     },
     "execution_count": 2,
     "metadata": {},
     "output_type": "execute_result"
    }
   ],
   "source": [
    "# preprocessing libraries\n",
    "import nltk\n",
    "from nltk.corpus import stopwords\n",
    "from nltk.stem import WordNetLemmatizer\n",
    "import re\n",
    "\n",
    "nltk.download('stopwords')\n",
    "nltk.download('wordnet')"
   ]
  },
  {
   "cell_type": "code",
   "execution_count": 3,
   "id": "62c5e86c",
   "metadata": {},
   "outputs": [],
   "source": [
    "# Load and preprocess data\n",
    "df = pd.read_csv(\"stack-overflow-data.csv\")\n",
    "df = df[pd.notnull(df['tags'])]"
   ]
  },
  {
   "cell_type": "code",
   "execution_count": 4,
   "id": "13b50e89",
   "metadata": {},
   "outputs": [
    {
     "data": {
      "text/plain": [
       "(40000, 2)"
      ]
     },
     "execution_count": 4,
     "metadata": {},
     "output_type": "execute_result"
    }
   ],
   "source": [
    "# dataframe's shape \n",
    "df.shape"
   ]
  },
  {
   "cell_type": "code",
   "execution_count": 5,
   "id": "0c3998a6",
   "metadata": {},
   "outputs": [
    {
     "data": {
      "text/html": [
       "<div>\n",
       "<style scoped>\n",
       "    .dataframe tbody tr th:only-of-type {\n",
       "        vertical-align: middle;\n",
       "    }\n",
       "\n",
       "    .dataframe tbody tr th {\n",
       "        vertical-align: top;\n",
       "    }\n",
       "\n",
       "    .dataframe thead th {\n",
       "        text-align: right;\n",
       "    }\n",
       "</style>\n",
       "<table border=\"1\" class=\"dataframe\">\n",
       "  <thead>\n",
       "    <tr style=\"text-align: right;\">\n",
       "      <th></th>\n",
       "      <th>post</th>\n",
       "      <th>tags</th>\n",
       "    </tr>\n",
       "  </thead>\n",
       "  <tbody>\n",
       "    <tr>\n",
       "      <th>0</th>\n",
       "      <td>what is causing this behavior  in our c# datet...</td>\n",
       "      <td>c#</td>\n",
       "    </tr>\n",
       "    <tr>\n",
       "      <th>1</th>\n",
       "      <td>have dynamic html load as if it was in an ifra...</td>\n",
       "      <td>asp.net</td>\n",
       "    </tr>\n",
       "    <tr>\n",
       "      <th>2</th>\n",
       "      <td>how to convert a float value in to min:sec  i ...</td>\n",
       "      <td>objective-c</td>\n",
       "    </tr>\n",
       "    <tr>\n",
       "      <th>3</th>\n",
       "      <td>.net framework 4 redistributable  just wonderi...</td>\n",
       "      <td>.net</td>\n",
       "    </tr>\n",
       "    <tr>\n",
       "      <th>4</th>\n",
       "      <td>trying to calculate and print the mean and its...</td>\n",
       "      <td>python</td>\n",
       "    </tr>\n",
       "  </tbody>\n",
       "</table>\n",
       "</div>"
      ],
      "text/plain": [
       "                                                post         tags\n",
       "0  what is causing this behavior  in our c# datet...           c#\n",
       "1  have dynamic html load as if it was in an ifra...      asp.net\n",
       "2  how to convert a float value in to min:sec  i ...  objective-c\n",
       "3  .net framework 4 redistributable  just wonderi...         .net\n",
       "4  trying to calculate and print the mean and its...       python"
      ]
     },
     "execution_count": 5,
     "metadata": {},
     "output_type": "execute_result"
    }
   ],
   "source": [
    "# preview of data\n",
    "df.head(5)"
   ]
  },
  {
   "cell_type": "code",
   "execution_count": 6,
   "id": "14c251ca",
   "metadata": {},
   "outputs": [],
   "source": [
    "df = df.sample(20000, random_state=1).copy()"
   ]
  },
  {
   "cell_type": "code",
   "execution_count": 7,
   "id": "5463b7f9",
   "metadata": {},
   "outputs": [
    {
     "data": {
      "image/png": "[encoded data removed]",
      "text/plain": [
       "<Figure size 1000x400 with 1 Axes>"
      ]
     },
     "metadata": {},
     "output_type": "display_data"
    }
   ],
   "source": [
    "# distribution bar plot\n",
    "my_tags = ['java','html','asp.net','c#','ruby-on-rails','jquery','mysql','php','ios','javascript','python','c','css','android','iphone','sql','objective-c','c++','angularjs','.net']\n",
    "plt.figure(figsize=(10,4))\n",
    "df.tags.value_counts().plot(kind='bar');"
   ]
  },
  {
   "cell_type": "code",
   "execution_count": 8,
   "id": "0215acf7",
   "metadata": {},
   "outputs": [],
   "source": [
    "# preprocess text\n",
    "def preprocess_text(text):\n",
    "    # Lowercasing\n",
    "    text = text.lower()\n",
    "    \n",
    "    # Remove special characters\n",
    "    text = re.sub(r'\\W', ' ', text)\n",
    "    \n",
    "    # Tokenization\n",
    "    words = nltk.word_tokenize(text)\n",
    "    \n",
    "    # Remove stop words and lemmatization\n",
    "    stop_words = set(stopwords.words('english'))\n",
    "    lemmatizer = WordNetLemmatizer()\n",
    "    words = [lemmatizer.lemmatize(word) for word in words if word not in stop_words]\n",
    "    \n",
    "    return ' '.join(words)"
   ]
  },
  {
   "cell_type": "code",
   "execution_count": 9,
   "id": "e943e5bb",
   "metadata": {},
   "outputs": [],
   "source": [
    "# Applying preprocessing to your text data\n",
    "df['post'] = df['post'].apply(preprocess_text)"
   ]
  },
  {
   "cell_type": "code",
   "execution_count": 10,
   "id": "d28db1e0",
   "metadata": {},
   "outputs": [],
   "source": [
    "# Vectorize text data\n",
    "tfidf = TfidfVectorizer(sublinear_tf=True, min_df=5, ngram_range=(1, 2), stop_words='english')\n",
    "features = tfidf.fit_transform(df.post).toarray()"
   ]
  },
  {
   "cell_type": "code",
   "execution_count": 11,
   "id": "e2579e98",
   "metadata": {},
   "outputs": [],
   "source": [
    "# Encode labels\n",
    "label_enc = LabelEncoder()\n",
    "labels = label_enc.fit_transform(df.tags)"
   ]
  },
  {
   "cell_type": "code",
   "execution_count": 12,
   "id": "eee7a045",
   "metadata": {},
   "outputs": [],
   "source": [
    "# Split data\n",
    "X_train, X_test, y_train, y_test = train_test_split(features, labels, test_size=0.20, random_state=0)"
   ]
  },
  {
   "cell_type": "markdown",
   "id": "466d6981",
   "metadata": {},
   "source": [
    "# Train and Evaluate Multiple Supervised Models"
   ]
  },
  {
   "cell_type": "code",
   "execution_count": 13,
   "id": "4ae9a44b",
   "metadata": {},
   "outputs": [],
   "source": [
    "# Define models\n",
    "models = {\n",
    "    \"LinearSVC\": LinearSVC(),\n",
    "    \"MultinomialNB\": MultinomialNB(),\n",
    "    \"LogisticRegression\": LogisticRegression(max_iter=1000),\n",
    "    \"RandomForestClassifier\": RandomForestClassifier()\n",
    "}"
   ]
  },
  {
   "cell_type": "code",
   "execution_count": 14,
   "id": "b2bbdedc",
   "metadata": {},
   "outputs": [
    {
     "name": "stderr",
     "output_type": "stream",
     "text": [
      "C:\\Users\\alexc\\anaconda3\\envs\\caption_contest\\Lib\\site-packages\\sklearn\\svm\\_classes.py:32: FutureWarning: The default value of `dual` will change from `True` to `'auto'` in 1.5. Set the value of `dual` explicitly to suppress the warning.\n",
      "  warnings.warn(\n",
      "C:\\Users\\alexc\\anaconda3\\envs\\caption_contest\\Lib\\site-packages\\sklearn\\svm\\_classes.py:32: FutureWarning: The default value of `dual` will change from `True` to `'auto'` in 1.5. Set the value of `dual` explicitly to suppress the warning.\n",
      "  warnings.warn(\n",
      "C:\\Users\\alexc\\anaconda3\\envs\\caption_contest\\Lib\\site-packages\\sklearn\\svm\\_classes.py:32: FutureWarning: The default value of `dual` will change from `True` to `'auto'` in 1.5. Set the value of `dual` explicitly to suppress the warning.\n",
      "  warnings.warn(\n",
      "C:\\Users\\alexc\\anaconda3\\envs\\caption_contest\\Lib\\site-packages\\sklearn\\svm\\_classes.py:32: FutureWarning: The default value of `dual` will change from `True` to `'auto'` in 1.5. Set the value of `dual` explicitly to suppress the warning.\n",
      "  warnings.warn(\n",
      "C:\\Users\\alexc\\anaconda3\\envs\\caption_contest\\Lib\\site-packages\\sklearn\\svm\\_classes.py:32: FutureWarning: The default value of `dual` will change from `True` to `'auto'` in 1.5. Set the value of `dual` explicitly to suppress the warning.\n",
      "  warnings.warn(\n"
     ]
    },
    {
     "name": "stdout",
     "output_type": "stream",
     "text": [
      "LinearSVC - Mean CV Accuracy: 0.820625\n",
      "MultinomialNB - Mean CV Accuracy: 0.7600625000000001\n",
      "LogisticRegression - Mean CV Accuracy: 0.8151875000000001\n",
      "RandomForestClassifier - Mean CV Accuracy: 0.7878125\n"
     ]
    }
   ],
   "source": [
    "# Evaluate models using 5-fold cross-validation and store results\n",
    "model_results = {}\n",
    "for model_name, model in models.items():\n",
    "    cv_scores = cross_val_score(model, X_train, y_train, cv=5)\n",
    "    mean_cv_score = np.mean(cv_scores)\n",
    "    model_results[model_name] = mean_cv_score\n",
    "    print(f\"{model_name} - Mean CV Accuracy: {mean_cv_score}\")"
   ]
  },
  {
   "cell_type": "code",
   "execution_count": 15,
   "id": "1a363ce8",
   "metadata": {},
   "outputs": [
    {
     "name": "stdout",
     "output_type": "stream",
     "text": [
      "                    Model  Mean CV Accuracy\n",
      "0               LinearSVC          0.820625\n",
      "2      LogisticRegression          0.815188\n",
      "3  RandomForestClassifier          0.787813\n",
      "1           MultinomialNB          0.760063\n"
     ]
    }
   ],
   "source": [
    "# Convert the dictionary into a list of dictionaries\n",
    "results_list = [{\"Model\": model, \"Mean CV Accuracy\": accuracy} for model, accuracy in model_results.items()]\n",
    "\n",
    "# Create a DataFrame from the list of dictionaries\n",
    "results_df = pd.DataFrame(results_list)\n",
    "\n",
    "# Sort the DataFrame by Mean CV Accuracy in descending order\n",
    "results_df.sort_values(by=\"Mean CV Accuracy\", ascending=False, inplace=True)\n",
    "\n",
    "# Display the DataFrame\n",
    "print(results_df)"
   ]
  },
  {
   "cell_type": "markdown",
   "id": "603837fe",
   "metadata": {},
   "source": [
    "# Choose the Best Model "
   ]
  },
  {
   "cell_type": "code",
   "execution_count": 16,
   "id": "38b650d9",
   "metadata": {},
   "outputs": [
    {
     "name": "stdout",
     "output_type": "stream",
     "text": [
      "Best Model: LinearSVC with Mean CV Accuracy: 0.820625\n"
     ]
    }
   ],
   "source": [
    "# Select the best model based on mean cross-validation accuracy\n",
    "best_model_name = max(model_results, key=model_results.get)\n",
    "best_model = models[best_model_name]\n",
    "\n",
    "print(f\"Best Model: {best_model_name} with Mean CV Accuracy: {model_results[best_model_name]}\")"
   ]
  },
  {
   "cell_type": "markdown",
   "id": "49164566",
   "metadata": {},
   "source": [
    "# Implement Q-learning with the Best Supervised Model"
   ]
  },
  {
   "cell_type": "code",
   "execution_count": 17,
   "id": "dbed1a69",
   "metadata": {},
   "outputs": [
    {
     "name": "stderr",
     "output_type": "stream",
     "text": [
      "C:\\Users\\alexc\\anaconda3\\envs\\caption_contest\\Lib\\site-packages\\sklearn\\svm\\_classes.py:32: FutureWarning: The default value of `dual` will change from `True` to `'auto'` in 1.5. Set the value of `dual` explicitly to suppress the warning.\n",
      "  warnings.warn(\n"
     ]
    }
   ],
   "source": [
    "# Get confidence scores for the training set from the best supervised model\n",
    "best_model.fit(X_train, y_train)\n",
    "svc_confidences = best_model.decision_function(X_train)"
   ]
  },
  {
   "cell_type": "code",
   "execution_count": 18,
   "id": "605812bd",
   "metadata": {},
   "outputs": [],
   "source": [
    "# Initialize Q-table\n",
    "n_states = X_train.shape[0]\n",
    "n_actions = len(np.unique(labels))\n",
    "Q_table = np.zeros((n_states, n_actions))"
   ]
  },
  {
   "cell_type": "code",
   "execution_count": 29,
   "id": "1826dace",
   "metadata": {},
   "outputs": [],
   "source": [
    "# Hyperparameters for Q-learning\n",
    "learning_rate = 0.03\n",
    "discount_factor = 0.75\n",
    "epsilon = 0.5\n",
    "n_episodes = 2000"
   ]
  },
  {
   "cell_type": "code",
   "execution_count": 30,
   "id": "791641eb",
   "metadata": {},
   "outputs": [],
   "source": [
    "# Function to choose an action based on the state\n",
    "def choose_action(state, svc_confidence):\n",
    "    if random.uniform(0, 1) < epsilon:\n",
    "        # Exploration: Random action\n",
    "        return random.choice(range(n_actions))\n",
    "    else:\n",
    "        # Exploitation: Best action suggested by Q-table and SVC confidence\n",
    "        combined_action_value = Q_table[state, :] + svc_confidence\n",
    "        return np.argmax(combined_action_value)"
   ]
  },
  {
   "cell_type": "code",
   "execution_count": 31,
   "id": "bf6ea475",
   "metadata": {},
   "outputs": [
    {
     "name": "stdout",
     "output_type": "stream",
     "text": [
      "Episode 0 completed\n",
      "Episode 100 completed\n",
      "Episode 200 completed\n",
      "Episode 300 completed\n",
      "Episode 400 completed\n",
      "Episode 500 completed\n",
      "Episode 600 completed\n",
      "Episode 700 completed\n",
      "Episode 800 completed\n",
      "Episode 900 completed\n",
      "Episode 1000 completed\n",
      "Episode 1100 completed\n",
      "Episode 1200 completed\n",
      "Episode 1300 completed\n",
      "Episode 1400 completed\n",
      "Episode 1500 completed\n",
      "Episode 1600 completed\n",
      "Episode 1700 completed\n",
      "Episode 1800 completed\n",
      "Episode 1900 completed\n"
     ]
    }
   ],
   "source": [
    "# Q-learning training loop\n",
    "for episode in range(n_episodes):\n",
    "    for state in range(n_states):\n",
    "        svc_confidence = svc_confidences[state]\n",
    "        action = choose_action(state, svc_confidence)\n",
    "        predicted_label = action\n",
    "        actual_label = y_train[state]\n",
    "\n",
    "        # Reward: +1 for correct, -1 for incorrect\n",
    "        reward = 1 if predicted_label == actual_label else -1\n",
    "\n",
    "        # Update Q-table\n",
    "        Q_table[state, action] = Q_table[state, action] + learning_rate * (reward + discount_factor * np.max(Q_table[state, :]) - Q_table[state, action])\n",
    "\n",
    "    if episode % 100 == 0:\n",
    "        print(f\"Episode {episode} completed\")"
   ]
  },
  {
   "cell_type": "markdown",
   "id": "922f5923",
   "metadata": {},
   "source": [
    "# Evaluate the Combined Model"
   ]
  },
  {
   "cell_type": "code",
   "execution_count": 32,
   "id": "37670aef",
   "metadata": {},
   "outputs": [],
   "source": [
    "# Get confidence scores for test set from the best supervised model\n",
    "svc_test_confidences = best_model.decision_function(X_test)"
   ]
  },
  {
   "cell_type": "code",
   "execution_count": 33,
   "id": "5b4507c7",
   "metadata": {},
   "outputs": [
    {
     "name": "stdout",
     "output_type": "stream",
     "text": [
      "Combined Model Accuracy: 0.36\n"
     ]
    }
   ],
   "source": [
    "# Evaluate the combined model\n",
    "correct_predictions = 0\n",
    "for state in range(X_test.shape[0]):\n",
    "    svc_confidence = svc_test_confidences[state]\n",
    "    combined_action_value = Q_table[state, :] + svc_confidence\n",
    "    action = np.argmax(combined_action_value)\n",
    "    if action == y_test[state]:\n",
    "        correct_predictions += 1\n",
    "\n",
    "combined_model_accuracy = correct_predictions / X_test.shape[0]\n",
    "print(f\"Combined Model Accuracy: {combined_model_accuracy}\")"
   ]
  }
 ],
 "metadata": {
  "kernelspec": {
   "display_name": "Python 3 (ipykernel)",
   "language": "python",
   "name": "python3"
  },
  "language_info": {
   "codemirror_mode": {
    "name": "ipython",
    "version": 3
   },
   "file_extension": ".py",
   "mimetype": "text/x-python",
   "name": "python",
   "nbconvert_exporter": "python",
   "pygments_lexer": "ipython3",
   "version": "3.11.5"
  }
 },
 "nbformat": 4,
 "nbformat_minor": 5
}
